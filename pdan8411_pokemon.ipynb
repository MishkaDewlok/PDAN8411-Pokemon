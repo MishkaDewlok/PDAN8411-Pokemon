{
 "cells": [
  {
   "cell_type": "markdown",
   "id": "fccea35c",
   "metadata": {},
   "source": [
    "# Pokémon Type Predictor using K-Means Clustering\n",
    "This notebook builds a fun Gradio app that lets users enter Pokémon stats and predicts the most likely Pokémon Type using K-Means clustering (an unsupervised learning algorithm)."
   ]
  },
  {
   "cell_type": "code",
   "execution_count": null,
   "id": "64d6dc60",
   "metadata": {},
   "outputs": [],
   "source": [
    "# Install required libraries (uncomment if not already installed)\n",
    "# !pip install pandas scikit-learn gradio matplotlib\n"
   ]
  },
  {
   "cell_type": "markdown",
   "id": "555981b2",
   "metadata": {},
   "source": [
    "## Step 1: Load and Explore the Dataset"
   ]
  },
  {
   "cell_type": "code",
   "execution_count": null,
   "id": "03c0a964",
   "metadata": {},
   "outputs": [],
   "source": [
    "import pandas as pd\n",
    "\n",
    "# Load dataset (make sure the CSV is in your working directory)\n",
    "df = pd.read_csv('Pokemon.csv')\n",
    "df = df[['HP', 'Attack', 'Defense', 'Sp. Atk', 'Sp. Def', 'Speed', 'Type 1']]\n",
    "df.dropna(inplace=True)\n",
    "df.head()"
   ]
  },
  {
   "cell_type": "markdown",
   "id": "444bb435",
   "metadata": {},
   "source": [
    "## Step 2: Preprocess the Data"
   ]
  },
  {
   "cell_type": "code",
   "execution_count": null,
   "id": "608cae8e",
   "metadata": {},
   "outputs": [],
   "source": [
    "from sklearn.preprocessing import StandardScaler\n",
    "\n",
    "# Features for clustering\n",
    "X = df.drop(columns=['Type 1'])\n",
    "scaler = StandardScaler()\n",
    "X_scaled = scaler.fit_transform(X)"
   ]
  },
  {
   "cell_type": "markdown",
   "id": "b34fef2b",
   "metadata": {},
   "source": [
    "## Step 3: Apply K-Means Clustering"
   ]
  },
  {
   "cell_type": "code",
   "execution_count": null,
   "id": "b3ffeb95",
   "metadata": {},
   "outputs": [],
   "source": [
    "from sklearn.cluster import KMeans\n",
    "\n",
    "# Using 18 clusters since there are roughly 18 Pokemon Types\n",
    "kmeans = KMeans(n_clusters=18, random_state=42)\n",
    "clusters = kmeans.fit_predict(X_scaled)\n",
    "df['Cluster'] = clusters"
   ]
  },
  {
   "cell_type": "markdown",
   "id": "ee27345e",
   "metadata": {},
   "source": [
    "## Step 4: Map Clusters to Most Frequent Type in Each Cluster"
   ]
  },
  {
   "cell_type": "code",
   "execution_count": null,
   "id": "e2e68572",
   "metadata": {},
   "outputs": [],
   "source": [
    "# Map cluster number to most common type in that cluster\n",
    "type_map = df.groupby('Cluster')['Type 1'].agg(lambda x: x.value_counts().index[0])\n",
    "cluster_to_type = dict(type_map)\n",
    "cluster_to_type"
   ]
  },
  {
   "cell_type": "markdown",
   "id": "dc13c4b9",
   "metadata": {},
   "source": [
    "## Step 5: Build Gradio Interface"
   ]
  },
  {
   "cell_type": "code",
   "execution_count": null,
   "id": "04637ae5",
   "metadata": {},
   "outputs": [],
   "source": [
    "import gradio as gr\n",
    "\n",
    "def predict_type(hp, attack, defense, sp_atk, sp_def, speed):\n",
    "    user_input = pd.DataFrame([[hp, attack, defense, sp_atk, sp_def, speed]],\n",
    "                              columns=['HP', 'Attack', 'Defense', 'Sp. Atk', 'Sp. Def', 'Speed'])\n",
    "    user_scaled = scaler.transform(user_input)\n",
    "    cluster = kmeans.predict(user_scaled)[0]\n",
    "    return f\"Predicted Pokémon Type: {cluster_to_type[cluster]}\"\n",
    "\n",
    "interface = gr.Interface(\n",
    "    fn=predict_type,\n",
    "    inputs=[\n",
    "        gr.Slider(1, 255, label=\"HP\"),\n",
    "        gr.Slider(5, 190, label=\"Attack\"),\n",
    "        gr.Slider(5, 230, label=\"Defense\"),\n",
    "        gr.Slider(10, 194, label=\"Sp. Atk\"),\n",
    "        gr.Slider(20, 230, label=\"Sp. Def\"),\n",
    "        gr.Slider(5, 200, label=\"Speed\")\n",
    "    ],\n",
    "    outputs=\"text\",\n",
    "    title=\"Pokémon Type Predictor\",\n",
    "    description=\"Enter Pokémon stats and get a predicted type using K-Means Clustering!\"\n",
    ")\n",
    "\n",
    "# Uncomment to launch the app\n",
    "# interface.launch()"
   ]
  }
 ],
 "metadata": {},
 "nbformat": 4,
 "nbformat_minor": 5
}
